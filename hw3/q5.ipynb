{
  "nbformat": 4,
  "nbformat_minor": 0,
  "metadata": {
    "colab": {
      "name": "q5.ipynb",
      "provenance": [],
      "collapsed_sections": [],
      "toc_visible": true,
      "include_colab_link": true
    },
    "kernelspec": {
      "name": "python383jvsc74a57bd00a76fcb802edb2dfca15385009dfd04609fc825b984a8875405f80868e822339",
      "display_name": "Python 3.8.3 64-bit ('base': conda)"
    },
    "language_info": {
      "name": "python",
      "version": "3.8.3-final"
    },
    "widgets": {
      "application/vnd.jupyter.widget-state+json": {
        "4d9ffc6a730244848ec392ef6c479269": {
          "model_module": "@jupyter-widgets/controls",
          "model_name": "HBoxModel",
          "state": {
            "_view_name": "HBoxView",
            "_dom_classes": [],
            "_model_name": "HBoxModel",
            "_view_module": "@jupyter-widgets/controls",
            "_model_module_version": "1.5.0",
            "_view_count": null,
            "_view_module_version": "1.5.0",
            "box_style": "",
            "layout": "IPY_MODEL_bf13c97cb530474f9671f9e90c706399",
            "_model_module": "@jupyter-widgets/controls",
            "children": [
              "IPY_MODEL_b87bb51895aa41d985737d2fe499d6a7",
              "IPY_MODEL_f21774053aec45ae917d5d6fdfa73cdf"
            ]
          }
        },
        "bf13c97cb530474f9671f9e90c706399": {
          "model_module": "@jupyter-widgets/base",
          "model_name": "LayoutModel",
          "state": {
            "_view_name": "LayoutView",
            "grid_template_rows": null,
            "right": null,
            "justify_content": null,
            "_view_module": "@jupyter-widgets/base",
            "overflow": null,
            "_model_module_version": "1.2.0",
            "_view_count": null,
            "flex_flow": null,
            "width": null,
            "min_width": null,
            "border": null,
            "align_items": null,
            "bottom": null,
            "_model_module": "@jupyter-widgets/base",
            "top": null,
            "grid_column": null,
            "overflow_y": null,
            "overflow_x": null,
            "grid_auto_flow": null,
            "grid_area": null,
            "grid_template_columns": null,
            "flex": null,
            "_model_name": "LayoutModel",
            "justify_items": null,
            "grid_row": null,
            "max_height": null,
            "align_content": null,
            "visibility": null,
            "align_self": null,
            "height": null,
            "min_height": null,
            "padding": null,
            "grid_auto_rows": null,
            "grid_gap": null,
            "max_width": null,
            "order": null,
            "_view_module_version": "1.2.0",
            "grid_template_areas": null,
            "object_position": null,
            "object_fit": null,
            "grid_auto_columns": null,
            "margin": null,
            "display": null,
            "left": null
          }
        },
        "b87bb51895aa41d985737d2fe499d6a7": {
          "model_module": "@jupyter-widgets/controls",
          "model_name": "FloatProgressModel",
          "state": {
            "_view_name": "ProgressView",
            "style": "IPY_MODEL_634db82b5cf64db39f6d3fba2ab6a637",
            "_dom_classes": [],
            "description": "",
            "_model_name": "FloatProgressModel",
            "bar_style": "success",
            "max": 170498071,
            "_view_module": "@jupyter-widgets/controls",
            "_model_module_version": "1.5.0",
            "value": 170498071,
            "_view_count": null,
            "_view_module_version": "1.5.0",
            "orientation": "horizontal",
            "min": 0,
            "description_tooltip": null,
            "_model_module": "@jupyter-widgets/controls",
            "layout": "IPY_MODEL_34d9f777fe5942a888f8e1a02b57d1da"
          }
        },
        "f21774053aec45ae917d5d6fdfa73cdf": {
          "model_module": "@jupyter-widgets/controls",
          "model_name": "HTMLModel",
          "state": {
            "_view_name": "HTMLView",
            "style": "IPY_MODEL_61ece2e31bc04f99a75312900eabf1a0",
            "_dom_classes": [],
            "description": "",
            "_model_name": "HTMLModel",
            "placeholder": "​",
            "_view_module": "@jupyter-widgets/controls",
            "_model_module_version": "1.5.0",
            "value": " 170499072/? [00:05&lt;00:00, 30726509.43it/s]",
            "_view_count": null,
            "_view_module_version": "1.5.0",
            "description_tooltip": null,
            "_model_module": "@jupyter-widgets/controls",
            "layout": "IPY_MODEL_50fe83d4209a4faca00621b636e14808"
          }
        },
        "634db82b5cf64db39f6d3fba2ab6a637": {
          "model_module": "@jupyter-widgets/controls",
          "model_name": "ProgressStyleModel",
          "state": {
            "_view_name": "StyleView",
            "_model_name": "ProgressStyleModel",
            "description_width": "initial",
            "_view_module": "@jupyter-widgets/base",
            "_model_module_version": "1.5.0",
            "_view_count": null,
            "_view_module_version": "1.2.0",
            "bar_color": null,
            "_model_module": "@jupyter-widgets/controls"
          }
        },
        "34d9f777fe5942a888f8e1a02b57d1da": {
          "model_module": "@jupyter-widgets/base",
          "model_name": "LayoutModel",
          "state": {
            "_view_name": "LayoutView",
            "grid_template_rows": null,
            "right": null,
            "justify_content": null,
            "_view_module": "@jupyter-widgets/base",
            "overflow": null,
            "_model_module_version": "1.2.0",
            "_view_count": null,
            "flex_flow": null,
            "width": null,
            "min_width": null,
            "border": null,
            "align_items": null,
            "bottom": null,
            "_model_module": "@jupyter-widgets/base",
            "top": null,
            "grid_column": null,
            "overflow_y": null,
            "overflow_x": null,
            "grid_auto_flow": null,
            "grid_area": null,
            "grid_template_columns": null,
            "flex": null,
            "_model_name": "LayoutModel",
            "justify_items": null,
            "grid_row": null,
            "max_height": null,
            "align_content": null,
            "visibility": null,
            "align_self": null,
            "height": null,
            "min_height": null,
            "padding": null,
            "grid_auto_rows": null,
            "grid_gap": null,
            "max_width": null,
            "order": null,
            "_view_module_version": "1.2.0",
            "grid_template_areas": null,
            "object_position": null,
            "object_fit": null,
            "grid_auto_columns": null,
            "margin": null,
            "display": null,
            "left": null
          }
        },
        "61ece2e31bc04f99a75312900eabf1a0": {
          "model_module": "@jupyter-widgets/controls",
          "model_name": "DescriptionStyleModel",
          "state": {
            "_view_name": "StyleView",
            "_model_name": "DescriptionStyleModel",
            "description_width": "",
            "_view_module": "@jupyter-widgets/base",
            "_model_module_version": "1.5.0",
            "_view_count": null,
            "_view_module_version": "1.2.0",
            "_model_module": "@jupyter-widgets/controls"
          }
        },
        "50fe83d4209a4faca00621b636e14808": {
          "model_module": "@jupyter-widgets/base",
          "model_name": "LayoutModel",
          "state": {
            "_view_name": "LayoutView",
            "grid_template_rows": null,
            "right": null,
            "justify_content": null,
            "_view_module": "@jupyter-widgets/base",
            "overflow": null,
            "_model_module_version": "1.2.0",
            "_view_count": null,
            "flex_flow": null,
            "width": null,
            "min_width": null,
            "border": null,
            "align_items": null,
            "bottom": null,
            "_model_module": "@jupyter-widgets/base",
            "top": null,
            "grid_column": null,
            "overflow_y": null,
            "overflow_x": null,
            "grid_auto_flow": null,
            "grid_area": null,
            "grid_template_columns": null,
            "flex": null,
            "_model_name": "LayoutModel",
            "justify_items": null,
            "grid_row": null,
            "max_height": null,
            "align_content": null,
            "visibility": null,
            "align_self": null,
            "height": null,
            "min_height": null,
            "padding": null,
            "grid_auto_rows": null,
            "grid_gap": null,
            "max_width": null,
            "order": null,
            "_view_module_version": "1.2.0",
            "grid_template_areas": null,
            "object_position": null,
            "object_fit": null,
            "grid_auto_columns": null,
            "margin": null,
            "display": null,
            "left": null
          }
        },
        "80effec9b00942b7aaccac05d51a45f8": {
          "model_module": "@jupyter-widgets/controls",
          "model_name": "HBoxModel",
          "state": {
            "_view_name": "HBoxView",
            "_dom_classes": [],
            "_model_name": "HBoxModel",
            "_view_module": "@jupyter-widgets/controls",
            "_model_module_version": "1.5.0",
            "_view_count": null,
            "_view_module_version": "1.5.0",
            "box_style": "",
            "layout": "IPY_MODEL_779d783f124b4ceca4e368bb1756e467",
            "_model_module": "@jupyter-widgets/controls",
            "children": [
              "IPY_MODEL_81e8fa73c612422cb1216fd7f932f175",
              "IPY_MODEL_8bf5276f09a541929e95c22451725d4a"
            ]
          }
        },
        "779d783f124b4ceca4e368bb1756e467": {
          "model_module": "@jupyter-widgets/base",
          "model_name": "LayoutModel",
          "state": {
            "_view_name": "LayoutView",
            "grid_template_rows": null,
            "right": null,
            "justify_content": null,
            "_view_module": "@jupyter-widgets/base",
            "overflow": null,
            "_model_module_version": "1.2.0",
            "_view_count": null,
            "flex_flow": null,
            "width": null,
            "min_width": null,
            "border": null,
            "align_items": null,
            "bottom": null,
            "_model_module": "@jupyter-widgets/base",
            "top": null,
            "grid_column": null,
            "overflow_y": null,
            "overflow_x": null,
            "grid_auto_flow": null,
            "grid_area": null,
            "grid_template_columns": null,
            "flex": null,
            "_model_name": "LayoutModel",
            "justify_items": null,
            "grid_row": null,
            "max_height": null,
            "align_content": null,
            "visibility": null,
            "align_self": null,
            "height": null,
            "min_height": null,
            "padding": null,
            "grid_auto_rows": null,
            "grid_gap": null,
            "max_width": null,
            "order": null,
            "_view_module_version": "1.2.0",
            "grid_template_areas": null,
            "object_position": null,
            "object_fit": null,
            "grid_auto_columns": null,
            "margin": null,
            "display": null,
            "left": null
          }
        },
        "81e8fa73c612422cb1216fd7f932f175": {
          "model_module": "@jupyter-widgets/controls",
          "model_name": "FloatProgressModel",
          "state": {
            "_view_name": "ProgressView",
            "style": "IPY_MODEL_b9b054d51b0f42f19398fa860a1eaaf8",
            "_dom_classes": [],
            "description": "100%",
            "_model_name": "FloatProgressModel",
            "bar_style": "success",
            "max": 1000,
            "_view_module": "@jupyter-widgets/controls",
            "_model_module_version": "1.5.0",
            "value": 1000,
            "_view_count": null,
            "_view_module_version": "1.5.0",
            "orientation": "horizontal",
            "min": 0,
            "description_tooltip": null,
            "_model_module": "@jupyter-widgets/controls",
            "layout": "IPY_MODEL_b1fa463de72f4958a7d5a4a875ad4218"
          }
        },
        "8bf5276f09a541929e95c22451725d4a": {
          "model_module": "@jupyter-widgets/controls",
          "model_name": "HTMLModel",
          "state": {
            "_view_name": "HTMLView",
            "style": "IPY_MODEL_9bb892cf0a414feb9829c176657c24c3",
            "_dom_classes": [],
            "description": "",
            "_model_name": "HTMLModel",
            "placeholder": "​",
            "_view_module": "@jupyter-widgets/controls",
            "_model_module_version": "1.5.0",
            "value": " 1000/1000 [00:45&lt;00:00, 22.09it/s]",
            "_view_count": null,
            "_view_module_version": "1.5.0",
            "description_tooltip": null,
            "_model_module": "@jupyter-widgets/controls",
            "layout": "IPY_MODEL_78ed1e34fcee4cd48a583497ef25b82a"
          }
        },
        "b9b054d51b0f42f19398fa860a1eaaf8": {
          "model_module": "@jupyter-widgets/controls",
          "model_name": "ProgressStyleModel",
          "state": {
            "_view_name": "StyleView",
            "_model_name": "ProgressStyleModel",
            "description_width": "initial",
            "_view_module": "@jupyter-widgets/base",
            "_model_module_version": "1.5.0",
            "_view_count": null,
            "_view_module_version": "1.2.0",
            "bar_color": null,
            "_model_module": "@jupyter-widgets/controls"
          }
        },
        "b1fa463de72f4958a7d5a4a875ad4218": {
          "model_module": "@jupyter-widgets/base",
          "model_name": "LayoutModel",
          "state": {
            "_view_name": "LayoutView",
            "grid_template_rows": null,
            "right": null,
            "justify_content": null,
            "_view_module": "@jupyter-widgets/base",
            "overflow": null,
            "_model_module_version": "1.2.0",
            "_view_count": null,
            "flex_flow": null,
            "width": null,
            "min_width": null,
            "border": null,
            "align_items": null,
            "bottom": null,
            "_model_module": "@jupyter-widgets/base",
            "top": null,
            "grid_column": null,
            "overflow_y": null,
            "overflow_x": null,
            "grid_auto_flow": null,
            "grid_area": null,
            "grid_template_columns": null,
            "flex": null,
            "_model_name": "LayoutModel",
            "justify_items": null,
            "grid_row": null,
            "max_height": null,
            "align_content": null,
            "visibility": null,
            "align_self": null,
            "height": null,
            "min_height": null,
            "padding": null,
            "grid_auto_rows": null,
            "grid_gap": null,
            "max_width": null,
            "order": null,
            "_view_module_version": "1.2.0",
            "grid_template_areas": null,
            "object_position": null,
            "object_fit": null,
            "grid_auto_columns": null,
            "margin": null,
            "display": null,
            "left": null
          }
        },
        "9bb892cf0a414feb9829c176657c24c3": {
          "model_module": "@jupyter-widgets/controls",
          "model_name": "DescriptionStyleModel",
          "state": {
            "_view_name": "StyleView",
            "_model_name": "DescriptionStyleModel",
            "description_width": "",
            "_view_module": "@jupyter-widgets/base",
            "_model_module_version": "1.5.0",
            "_view_count": null,
            "_view_module_version": "1.2.0",
            "_model_module": "@jupyter-widgets/controls"
          }
        },
        "78ed1e34fcee4cd48a583497ef25b82a": {
          "model_module": "@jupyter-widgets/base",
          "model_name": "LayoutModel",
          "state": {
            "_view_name": "LayoutView",
            "grid_template_rows": null,
            "right": null,
            "justify_content": null,
            "_view_module": "@jupyter-widgets/base",
            "overflow": null,
            "_model_module_version": "1.2.0",
            "_view_count": null,
            "flex_flow": null,
            "width": null,
            "min_width": null,
            "border": null,
            "align_items": null,
            "bottom": null,
            "_model_module": "@jupyter-widgets/base",
            "top": null,
            "grid_column": null,
            "overflow_y": null,
            "overflow_x": null,
            "grid_auto_flow": null,
            "grid_area": null,
            "grid_template_columns": null,
            "flex": null,
            "_model_name": "LayoutModel",
            "justify_items": null,
            "grid_row": null,
            "max_height": null,
            "align_content": null,
            "visibility": null,
            "align_self": null,
            "height": null,
            "min_height": null,
            "padding": null,
            "grid_auto_rows": null,
            "grid_gap": null,
            "max_width": null,
            "order": null,
            "_view_module_version": "1.2.0",
            "grid_template_areas": null,
            "object_position": null,
            "object_fit": null,
            "grid_auto_columns": null,
            "margin": null,
            "display": null,
            "left": null
          }
        }
      }
    },
    "accelerator": "GPU",
    "metadata": {
      "interpreter": {
        "hash": "aee8b7b246df8f9039afb4144a1f6fd8d2ca17a180786b69acc140d282b71a49"
      }
    }
  },
  "cells": [
    {
      "cell_type": "markdown",
      "metadata": {
        "id": "view-in-github",
        "colab_type": "text"
      },
      "source": [
        "<a href=\"https://colab.research.google.com/github/EsmirMes/CS159/blob/main/q5.ipynb\" target=\"_parent\"><img src=\"https://colab.research.google.com/assets/colab-badge.svg\" alt=\"Open In Colab\"/></a>"
      ]
    },
    {
      "cell_type": "markdown",
      "metadata": {
        "id": "V8fonl2RdbzS"
      },
      "source": [
        "# **CS 159 · Homework 3 · Question 5**\n",
        "\n"
      ]
    },
    {
      "cell_type": "markdown",
      "metadata": {
        "id": "zesvMyuQd-sI"
      },
      "source": [
        "## Imports"
      ]
    },
    {
      "cell_type": "code",
      "metadata": {
        "id": "xL3MHWLRcl-j"
      },
      "source": [
        "import math\n",
        "import numpy as np\n",
        "from tqdm.notebook import tqdm\n",
        "\n",
        "import torch, torchvision\n",
        "import torch.nn as nn\n",
        "import torch.nn.functional as F\n",
        "\n",
        "%matplotlib inline\n",
        "import matplotlib.pyplot as plt"
      ],
      "execution_count": null,
      "outputs": []
    },
    {
      "cell_type": "markdown",
      "metadata": {
        "id": "5SaIwN63e5ub"
      },
      "source": [
        "## Define MLP"
      ]
    },
    {
      "cell_type": "code",
      "metadata": {
        "id": "-n3qOc0be7-3"
      },
      "source": [
        "class MLP(nn.Module):\n",
        "    def __init__(self, depth, width):\n",
        "        super(MLP, self).__init__()\n",
        "\n",
        "        self.initial = nn.Linear(3072, width, bias=False)\n",
        "        self.layers = nn.ModuleList([nn.Linear(width, width, bias=False) for _ in range(depth-2)])\n",
        "        self.final = nn.Linear(width, 1, bias=False)\n",
        "\n",
        "    def forward(self, x):\n",
        "        x = self.initial(x)\n",
        "        x = F.relu(x) * math.sqrt(2)\n",
        "        for layer in self.layers:\n",
        "            x = layer(x)\n",
        "            x = F.relu(x) * math.sqrt(2)\n",
        "        return self.final(x)"
      ],
      "execution_count": null,
      "outputs": []
    },
    {
      "cell_type": "markdown",
      "metadata": {
        "id": "xu77nUVLfm6V"
      },
      "source": [
        "## Get a CIFAR-10 image and create three more noisy copies\n",
        "\n",
        "\n",
        "\n"
      ]
    },
    {
      "cell_type": "code",
      "metadata": {
        "colab": {
          "base_uri": "https://localhost:8080/",
          "height": 1000,
          "referenced_widgets": [
            "4d9ffc6a730244848ec392ef6c479269",
            "bf13c97cb530474f9671f9e90c706399",
            "b87bb51895aa41d985737d2fe499d6a7",
            "f21774053aec45ae917d5d6fdfa73cdf",
            "634db82b5cf64db39f6d3fba2ab6a637",
            "34d9f777fe5942a888f8e1a02b57d1da",
            "61ece2e31bc04f99a75312900eabf1a0",
            "50fe83d4209a4faca00621b636e14808"
          ]
        },
        "id": "XhoJRn1WfoDH",
        "outputId": "a8790eab-30e3-40b1-9b90-e807f1826ce3"
      },
      "source": [
        "trainset = torchvision.datasets.CIFAR10(\n",
        "    root='./data', train=True, download=True, transform=torchvision.transforms.ToTensor())\n",
        "\n",
        "image = trainset[1][0].permute(1,2,0).clamp_(0,1)\n",
        "\n",
        "# create noisy images\n",
        "image_ = (image + torch.randn_like(image)*0.05).clamp_(0,1)\n",
        "image__ = (image + torch.randn_like(image)*0.25).clamp_(0,1)\n",
        "image___ = (image + torch.randn_like(image)*0.5).clamp_(0,1)\n",
        "\n",
        "# plot images\n",
        "plt.axis('off'); plt.imshow(image); plt.show()\n",
        "plt.axis('off'); plt.imshow(image_); plt.show()\n",
        "plt.axis('off'); plt.imshow(image__); plt.show()\n",
        "plt.axis('off'); plt.imshow(image___); plt.show()\n",
        "\n",
        "# flatten images to pass through MLP\n",
        "image = image.flatten().unsqueeze(0)\n",
        "image_ = image_.flatten().unsqueeze(0)\n",
        "image__ = image__.flatten().unsqueeze(0)\n",
        "image___ = image___.flatten().unsqueeze(0)\n",
        "\n",
        "# concatenate into single batch\n",
        "input = torch.cat((image,image_,image__,image___), 0)\n",
        "\n",
        "# rescale inputs to get a well scaled output\n",
        "input /= input.norm(dim=1, keepdim=True) \n",
        "input *= math.sqrt(input.shape[1])"
      ],
      "execution_count": null,
      "outputs": [
        {
          "output_type": "stream",
          "text": [
            "Downloading https://www.cs.toronto.edu/~kriz/cifar-10-python.tar.gz to ./data/cifar-10-python.tar.gz\n"
          ],
          "name": "stdout"
        },
        {
          "output_type": "display_data",
          "data": {
            "application/vnd.jupyter.widget-view+json": {
              "model_id": "4d9ffc6a730244848ec392ef6c479269",
              "version_minor": 0,
              "version_major": 2
            },
            "text/plain": [
              "HBox(children=(FloatProgress(value=0.0, max=170498071.0), HTML(value='')))"
            ]
          },
          "metadata": {
            "tags": []
          }
        },
        {
          "output_type": "stream",
          "text": [
            "\n",
            "Extracting ./data/cifar-10-python.tar.gz to ./data\n"
          ],
          "name": "stdout"
        },
        {
          "output_type": "display_data",
          "data": {
            "image/png": "[encoded data removed]",
            "text/plain": [
              "<Figure size 432x288 with 1 Axes>"
            ]
          },
          "metadata": {
            "tags": [],
            "needs_background": "light"
          }
        },
        {
          "output_type": "display_data",
          "data": {
            "image/png": "[encoded data removed]",
            "text/plain": [
              "<Figure size 432x288 with 1 Axes>"
            ]
          },
          "metadata": {
            "tags": [],
            "needs_background": "light"
          }
        },
        {
          "output_type": "display_data",
          "data": {
            "image/png": "[encoded data removed]",
            "text/plain": [
              "<Figure size 432x288 with 1 Axes>"
            ]
          },
          "metadata": {
            "tags": [],
            "needs_background": "light"
          }
        },
        {
          "output_type": "display_data",
          "data": {
            "image/png": "[encoded data removed]",
            "text/plain": [
              "<Figure size 432x288 with 1 Axes>"
            ]
          },
          "metadata": {
            "tags": [],
            "needs_background": "light"
          }
        }
      ]
    },
    {
      "cell_type": "markdown",
      "metadata": {
        "id": "KoKJoq4omRB-"
      },
      "source": [
        "## Sample random MLPs and pass the inputs through"
      ]
    },
    {
      "cell_type": "code",
      "metadata": {
        "colab": {
          "base_uri": "https://localhost:8080/",
          "height": 202,
          "referenced_widgets": [
            "80effec9b00942b7aaccac05d51a45f8",
            "779d783f124b4ceca4e368bb1756e467",
            "81e8fa73c612422cb1216fd7f932f175",
            "8bf5276f09a541929e95c22451725d4a",
            "b9b054d51b0f42f19398fa860a1eaaf8",
            "b1fa463de72f4958a7d5a4a875ad4218",
            "9bb892cf0a414feb9829c176657c24c3",
            "78ed1e34fcee4cd48a583497ef25b82a"
          ]
        },
        "id": "zdvat3o_mY8J",
        "outputId": "a91537b7-6437-41f4-892d-88a112b2d2f1"
      },
      "source": [
        "depth = 3\n",
        "net = MLP(width=1000,depth=depth)\n",
        "\n",
        "print(\"The network matrices have shapes:\\n\")\n",
        "for p in net.parameters():\n",
        "    print(p.shape)\n",
        "\n",
        "print(\"\\nSampling random networks...\\n\")\n",
        "\n",
        "num_inputs = input.shape[0]\n",
        "num_random_networks = 1000\n",
        "output = torch.zeros(num_inputs, num_random_networks)\n",
        "\n",
        "for network_idx in tqdm(range(num_random_networks)):\n",
        "    \n",
        "    # randomly sample network weights\n",
        "    for p in net.parameters():\n",
        "        p.data = torch.randn_like(p) / math.sqrt(p.shape[1])\n",
        "    \n",
        "    # pass input through network\n",
        "    output[:, network_idx] = net(input).squeeze().detach()"
      ],
      "execution_count": null,
      "outputs": [
        {
          "output_type": "stream",
          "text": [
            "The network matrices have shapes:\n",
            "\n",
            "torch.Size([1000, 3072])\n",
            "torch.Size([1000, 1000])\n",
            "torch.Size([1, 1000])\n",
            "\n",
            "Sampling random networks...\n",
            "\n"
          ],
          "name": "stdout"
        },
        {
          "output_type": "display_data",
          "data": {
            "application/vnd.jupyter.widget-view+json": {
              "model_id": "80effec9b00942b7aaccac05d51a45f8",
              "version_minor": 0,
              "version_major": 2
            },
            "text/plain": [
              "HBox(children=(FloatProgress(value=0.0, max=1000.0), HTML(value='')))"
            ]
          },
          "metadata": {
            "tags": []
          }
        },
        {
          "output_type": "stream",
          "text": [
            "\n"
          ],
          "name": "stdout"
        }
      ]
    },
    {
      "cell_type": "markdown",
      "metadata": {
        "id": "XRu8LQ8l7BZW"
      },
      "source": [
        "## TODO: compute the sample covariance of outputs\n",
        "Hint: use Pytorch built-in functions. We implemented this in 3 lines of code."
      ]
    },
    {
      "cell_type": "code",
      "metadata": {
        "id": "opKOFaOJ67Bq",
        "colab": {
          "base_uri": "https://localhost:8080/"
        },
        "outputId": "eff20ee9-16c8-4440-f3b9-30a1cb948acd"
      },
      "source": [
        "cov_sample = np.cov(output)\n",
        "print(cov_sample)"
      ],
      "execution_count": 24,
      "outputs": [
        {
          "output_type": "stream",
          "text": [
            "[[1.03190862 1.02749938 0.97835251 0.89946144]\n",
            " [1.02749938 1.02987598 0.97507153 0.89700953]\n",
            " [0.97835251 0.97507153 1.04089353 0.87285577]\n",
            " [0.89946144 0.89700953 0.87285577 1.02651087]]\n"
          ],
          "name": "stdout"
        }
      ]
    },
    {
      "cell_type": "markdown",
      "metadata": {
        "id": "6vi7DCEQ7D0A"
      },
      "source": [
        "## TODO: compute the theoretical output covariance\n",
        "Hint: we implemented this in one line."
      ]
    },
    {
      "cell_type": "code",
      "metadata": {
        "id": "C9F-Ygio7U7E"
      },
      "source": [
        "# the following function may help you. It operates elementwise on Pytorch tensors.\n",
        "def h(t):\n",
        "    t = t.clamp(min=-1, max=1) # sanitise the input\n",
        "    return 1/math.pi * ((1-t**2).sqrt() + t*(math.pi - t.acos()))"
      ],
      "execution_count": null,
      "outputs": []
    },
    {
      "cell_type": "code",
      "metadata": {
        "colab": {
          "base_uri": "https://localhost:8080/"
        },
        "id": "3ZJXx3u-w8Xa",
        "outputId": "498f99c4-d213-488b-b8e6-b4cddf56e374"
      },
      "source": [
        "cov = torch.matmul(input, input.T) / input.shape[1]\n",
        "for _ in range(depth - 1):\n",
        "    cov = h(cov)\n",
        "cov"
      ],
      "execution_count": 26,
      "outputs": [
        {
          "output_type": "execute_result",
          "data": {
            "text/plain": [
              "tensor([[1.0000, 0.9964, 0.9414, 0.8743],\n",
              "        [0.9964, 1.0000, 0.9385, 0.8720],\n",
              "        [0.9414, 0.9385, 1.0000, 0.8410],\n",
              "        [0.8743, 0.8720, 0.8410, 1.0000]])"
            ]
          },
          "metadata": {
            "tags": []
          },
          "execution_count": 26
        }
      ]
    },
    {
      "cell_type": "code",
      "metadata": {
        "colab": {
          "base_uri": "https://localhost:8080/"
        },
        "id": "8aDbRZEvwzdr",
        "outputId": "566a7039-154e-4f07-8fa6-d68087ae9de4"
      },
      "source": [
        "# More complex numpy way:\n",
        "def comp(x_i, x_j):\n",
        "    val = torch.from_numpy(np.array([np.dot(x_i.T, x_j)])) / input.shape[1]\n",
        "    for i in range(depth - 1):\n",
        "        val = h(val)\n",
        "    return val\n",
        "        \n",
        "cov_theoretical = np.array([[comp(input[i], input[j]).tolist()[0] for j in range(len(input))] for i in range(len(input))])\n",
        "print(cov_theoretical)"
      ],
      "execution_count": 25,
      "outputs": [
        {
          "output_type": "stream",
          "text": [
            "[[1.         0.99639136 0.94140959 0.87426507]\n",
            " [0.99639136 0.99999982 0.93851256 0.87202287]\n",
            " [0.94140959 0.93851256 1.         0.84095532]\n",
            " [0.87426507 0.87202287 0.84095532 0.9999997 ]]\n"
          ],
          "name": "stdout"
        }
      ]
    },
    {
      "cell_type": "code",
      "metadata": {
        "id": "UaqvG5Rq4HWP"
      },
      "source": [
        ""
      ],
      "execution_count": 25,
      "outputs": []
    }
  ]
}